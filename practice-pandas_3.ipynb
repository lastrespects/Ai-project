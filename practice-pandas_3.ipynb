{
 "cells": [
  {
   "cell_type": "markdown",
   "metadata": {
    "id": "vN2D9cmLHZ3_"
   },
   "source": [
    "# (실습) 데이터프레임 중심 프로그래밍"
   ]
  },
  {
   "cell_type": "code",
   "execution_count": 1,
   "metadata": {
    "id": "6npwBU-pXKc1"
   },
   "outputs": [],
   "source": [
    "import numpy as np\n",
    "import pandas as pd"
   ]
  },
  {
   "cell_type": "markdown",
   "metadata": {
    "id": "UAmW-dG6BhUI"
   },
   "source": [
    "**문제 1**"
   ]
  },
  {
   "cell_type": "markdown",
   "metadata": {
    "id": "jhZpoc8kXA8u"
   },
   "source": [
    "아래의 딕셔너리 `data`를 이용하여 데이터프레임`df1`를 생성하라."
   ]
  },
  {
   "cell_type": "code",
   "execution_count": null,
   "metadata": {
    "colab": {
     "base_uri": "https://localhost:8080/",
     "height": 313
    },
    "executionInfo": {
     "elapsed": 597,
     "status": "ok",
     "timestamp": 1620615043078,
     "user": {
      "displayName": "­정성엽 / 학생 / 컴퓨터공학부",
      "photoUrl": "",
      "userId": "12165438926956780307"
     },
     "user_tz": -540
    },
    "id": "u-2gZxvtLoUF",
    "outputId": "8e80fb39-2771-490b-8b77-35283e27dd2b"
   },
   "outputs": [],
   "source": [
    "data = {'A': [0, 5, 15, 20, 25, 30, 35, 40],\n",
    "        'B' : [1, 2, 3, 4, 5, 6, 7, 8]}"
   ]
  },
  {
   "cell_type": "code",
   "execution_count": null,
   "metadata": {
    "colab": {
     "base_uri": "https://localhost:8080/",
     "height": 313
    },
    "executionInfo": {
     "elapsed": 597,
     "status": "ok",
     "timestamp": 1620615043078,
     "user": {
      "displayName": "­정성엽 / 학생 / 컴퓨터공학부",
      "photoUrl": "",
      "userId": "12165438926956780307"
     },
     "user_tz": -540
    },
    "id": "u-2gZxvtLoUF",
    "outputId": "8e80fb39-2771-490b-8b77-35283e27dd2b"
   },
   "outputs": [],
   "source": [
    "# None 을 적절한 표현식으로 대체하라.\n",
    "\n",
    "df1 = None\n",
    "\n",
    "df1"
   ]
  },
  {
   "cell_type": "markdown",
   "metadata": {
    "id": "UAmW-dG6BhUI"
   },
   "source": [
    "**문제 2**"
   ]
  },
  {
   "cell_type": "markdown",
   "metadata": {
    "id": "JfBtyh2QZ_6f"
   },
   "source": [
    "다음 두 리스트를 이용하여 `C`와 `D`열을 `df1`에 추가하라."
   ]
  },
  {
   "cell_type": "code",
   "execution_count": null,
   "metadata": {
    "colab": {
     "base_uri": "https://localhost:8080/",
     "height": 313
    },
    "executionInfo": {
     "elapsed": 813,
     "status": "ok",
     "timestamp": 1620615095498,
     "user": {
      "displayName": "­정성엽 / 학생 / 컴퓨터공학부",
      "photoUrl": "",
      "userId": "12165438926956780307"
     },
     "user_tz": -540
    },
    "id": "QUZtSaA7LzH7",
    "outputId": "0608d26b-9def-435a-ddc0-437d3d1e65fb"
   },
   "outputs": [],
   "source": [
    "C = [3, 3, 3, 3, 3, 3, 3, 3]\n",
    "D = [4, 2, 9, 1, 20, 3, 15, 17]"
   ]
  },
  {
   "cell_type": "code",
   "execution_count": null,
   "metadata": {
    "colab": {
     "base_uri": "https://localhost:8080/",
     "height": 313
    },
    "executionInfo": {
     "elapsed": 813,
     "status": "ok",
     "timestamp": 1620615095498,
     "user": {
      "displayName": "­정성엽 / 학생 / 컴퓨터공학부",
      "photoUrl": "",
      "userId": "12165438926956780307"
     },
     "user_tz": -540
    },
    "id": "QUZtSaA7LzH7",
    "outputId": "0608d26b-9def-435a-ddc0-437d3d1e65fb"
   },
   "outputs": [],
   "source": [
    "# pass 를 적절한 명령문으로 대체하라.\n",
    "\n",
    "pass\n",
    "\n",
    "df1"
   ]
  },
  {
   "cell_type": "markdown",
   "metadata": {
    "id": "UAmW-dG6BhUI"
   },
   "source": [
    "**문제 3**"
   ]
  },
  {
   "cell_type": "markdown",
   "metadata": {
    "id": "NpreNqo_ZuBJ"
   },
   "source": [
    "`df1`의 각 열의 합을 계산하는 한줄 코드를 작성하라."
   ]
  },
  {
   "cell_type": "code",
   "execution_count": null,
   "metadata": {
    "colab": {
     "base_uri": "https://localhost:8080/",
     "height": 136
    },
    "executionInfo": {
     "elapsed": 589,
     "status": "ok",
     "timestamp": 1620619031607,
     "user": {
      "displayName": "HJ Kim",
      "photoUrl": "",
      "userId": "16634276932240017990"
     },
     "user_tz": -540
    },
    "id": "pgq1TBj6a59k",
    "outputId": "09567067-aae1-47fa-b507-009b58e521ed"
   },
   "outputs": [],
   "source": [
    "# pass 를 한줄 코드로 대체하라.\n",
    "\n",
    "pass"
   ]
  },
  {
   "cell_type": "markdown",
   "metadata": {
    "id": "UAmW-dG6BhUI"
   },
   "source": [
    "**문제 4**"
   ]
  },
  {
   "cell_type": "markdown",
   "metadata": {
    "id": "NpreNqo_ZuBJ"
   },
   "source": [
    "`df1`의 각 행의 합을 계산하는 한줄 코드를 작성하라."
   ]
  },
  {
   "cell_type": "code",
   "execution_count": null,
   "metadata": {
    "colab": {
     "base_uri": "https://localhost:8080/",
     "height": 136
    },
    "executionInfo": {
     "elapsed": 589,
     "status": "ok",
     "timestamp": 1620619031607,
     "user": {
      "displayName": "HJ Kim",
      "photoUrl": "",
      "userId": "16634276932240017990"
     },
     "user_tz": -540
    },
    "id": "pgq1TBj6a59k",
    "outputId": "09567067-aae1-47fa-b507-009b58e521ed"
   },
   "outputs": [],
   "source": [
    "# pass 를 한줄 코드로 대체하라.\n",
    "\n",
    "pass"
   ]
  },
  {
   "cell_type": "markdown",
   "metadata": {
    "id": "UAmW-dG6BhUI"
   },
   "source": [
    "**문제 5**"
   ]
  },
  {
   "cell_type": "markdown",
   "metadata": {
    "id": "rYOj3OZjbcF_"
   },
   "source": [
    "`A`, `B`, `D`열에서 행 인덱스가 2, 3, 4인 자료를 추출하는\n",
    "한줄 코드를 작성하라. "
   ]
  },
  {
   "cell_type": "code",
   "execution_count": null,
   "metadata": {
    "colab": {
     "base_uri": "https://localhost:8080/",
     "height": 136
    },
    "executionInfo": {
     "elapsed": 589,
     "status": "ok",
     "timestamp": 1620619031607,
     "user": {
      "displayName": "HJ Kim",
      "photoUrl": "",
      "userId": "16634276932240017990"
     },
     "user_tz": -540
    },
    "id": "pgq1TBj6a59k",
    "outputId": "09567067-aae1-47fa-b507-009b58e521ed"
   },
   "outputs": [],
   "source": [
    "# pass 를 한줄 코드로 대체하라.\n",
    "\n",
    "pass"
   ]
  },
  {
   "cell_type": "markdown",
   "metadata": {},
   "source": [
    "**문제 6**"
   ]
  },
  {
   "cell_type": "markdown",
   "metadata": {
    "id": "kCUmr5xTbfrG"
   },
   "source": [
    "`df1`에 `K`열을 추가하여라. 이때, `K`열의 각 항목은 `B`열의 각 항목 곱하기 3이다. "
   ]
  },
  {
   "cell_type": "code",
   "execution_count": null,
   "metadata": {
    "colab": {
     "base_uri": "https://localhost:8080/",
     "height": 313
    },
    "executionInfo": {
     "elapsed": 956,
     "status": "ok",
     "timestamp": 1620617012598,
     "user": {
      "displayName": "­정성엽 / 학생 / 컴퓨터공학부",
      "photoUrl": "",
      "userId": "12165438926956780307"
     },
     "user_tz": -540
    },
    "id": "lNGCpaMbTNI1",
    "outputId": "f20dc37d-7c69-4e96-9070-8d728af4a7c1"
   },
   "outputs": [],
   "source": [
    "# pass 를 한줄 코드로 대체하라.\n",
    "\n",
    "pass\n",
    "\n",
    "df1"
   ]
  },
  {
   "cell_type": "markdown",
   "metadata": {},
   "source": [
    "**문제 7**"
   ]
  },
  {
   "cell_type": "markdown",
   "metadata": {
    "id": "ImowaV1Fcmds"
   },
   "source": [
    "`df1`에 `R`열을 추가하여라. \n",
    "이때, `R`열의 각 항목은 균등분포에 따라 `[0, 1)` 구간에서 선택된 임의의 수로 구성된다.\n",
    "\n",
    "힌트: `numpy.random.rand()`"
   ]
  },
  {
   "cell_type": "code",
   "execution_count": null,
   "metadata": {
    "colab": {
     "base_uri": "https://localhost:8080/",
     "height": 313
    },
    "executionInfo": {
     "elapsed": 956,
     "status": "ok",
     "timestamp": 1620617012598,
     "user": {
      "displayName": "­정성엽 / 학생 / 컴퓨터공학부",
      "photoUrl": "",
      "userId": "12165438926956780307"
     },
     "user_tz": -540
    },
    "id": "lNGCpaMbTNI1",
    "outputId": "f20dc37d-7c69-4e96-9070-8d728af4a7c1"
   },
   "outputs": [],
   "source": [
    "# pass를 한줄 코드로 대체하라.\n",
    "\n",
    "pass\n",
    "\n",
    "df1"
   ]
  },
  {
   "cell_type": "markdown",
   "metadata": {},
   "source": [
    "**문제 8**"
   ]
  },
  {
   "cell_type": "markdown",
   "metadata": {
    "id": "eC5wU_dKfeyZ"
   },
   "source": [
    "`df1`에서 `C`열에 인덱스가 1, 3, 5인 자료의 값을 6으로 변경하여라. "
   ]
  },
  {
   "cell_type": "code",
   "execution_count": null,
   "metadata": {
    "colab": {
     "base_uri": "https://localhost:8080/",
     "height": 313
    },
    "executionInfo": {
     "elapsed": 956,
     "status": "ok",
     "timestamp": 1620617012598,
     "user": {
      "displayName": "­정성엽 / 학생 / 컴퓨터공학부",
      "photoUrl": "",
      "userId": "12165438926956780307"
     },
     "user_tz": -540
    },
    "id": "lNGCpaMbTNI1",
    "outputId": "f20dc37d-7c69-4e96-9070-8d728af4a7c1"
   },
   "outputs": [],
   "source": [
    "# pass 를 한줄 코드로 대체하라.\n",
    "\n",
    "pass\n",
    "\n",
    "df1"
   ]
  },
  {
   "cell_type": "markdown",
   "metadata": {
    "id": "KBdpvaNEh4tc"
   },
   "source": [
    "**성적 데이터 분석**"
   ]
  },
  {
   "cell_type": "markdown",
   "metadata": {
    "id": "HMI1XX8TSSDB"
   },
   "source": [
    "학생 100명의 국어, 영어, 수학, 사회, 과학 점수가 들어 있는\n",
    "`score.txt` 파일을 다운로드 한다."
   ]
  },
  {
   "cell_type": "markdown",
   "metadata": {},
   "source": [
    "- 다운로드 경로 지정"
   ]
  },
  {
   "cell_type": "code",
   "execution_count": null,
   "metadata": {},
   "outputs": [],
   "source": [
    "from pathlib import Path\n",
    "\n",
    "data_path = Path() / \"data\"\n",
    "\n",
    "data_path.mkdir(parents=True, exist_ok=True)"
   ]
  },
  {
   "cell_type": "markdown",
   "metadata": {},
   "source": [
    "- 다운로드 함수 선언"
   ]
  },
  {
   "cell_type": "code",
   "execution_count": null,
   "metadata": {},
   "outputs": [],
   "source": [
    "from urllib.request import urlretrieve\n",
    "\n",
    "# 파일 서버 기본 주소\n",
    "base_url = \"https://raw.githubusercontent.com/codingalzi/datapy/master/jupyter-book/data/\"\n",
    "\n",
    "def myWget(filename):\n",
    "    # 다운로드 대상 파일 경로\n",
    "    file_url = base_url + filename\n",
    "    \n",
    "    # 저장 경로와 파일명\n",
    "    target_path = data_path / filename\n",
    "    \n",
    "    return urlretrieve(file_url, target_path)"
   ]
  },
  {
   "cell_type": "markdown",
   "metadata": {},
   "source": [
    "* `score.txt` 파일 다운로드"
   ]
  },
  {
   "cell_type": "code",
   "execution_count": null,
   "metadata": {},
   "outputs": [],
   "source": [
    "myWget(\"score.txt\")"
   ]
  },
  {
   "cell_type": "markdown",
   "metadata": {
    "id": "HMI1XX8TSSDB"
   },
   "source": [
    "파일의 내용을 데이터프레임으로 다음과 같이 불러온다."
   ]
  },
  {
   "cell_type": "code",
   "execution_count": null,
   "metadata": {},
   "outputs": [],
   "source": [
    "df_score = pd.read_csv(data_path / 'score.txt', header=0)"
   ]
  },
  {
   "cell_type": "code",
   "execution_count": null,
   "metadata": {},
   "outputs": [],
   "source": [
    "df_score"
   ]
  },
  {
   "cell_type": "markdown",
   "metadata": {},
   "source": [
    "**문제 9**"
   ]
  },
  {
   "cell_type": "markdown",
   "metadata": {},
   "source": [
    "첫째 열의 라벨인 `# 국어` 를 `국어`로 수정하라."
   ]
  },
  {
   "cell_type": "code",
   "execution_count": null,
   "metadata": {},
   "outputs": [],
   "source": [
    "# pass 를 한줄 코드로 대체하라.\n",
    "\n",
    "passs\n",
    "\n",
    "df_score"
   ]
  },
  {
   "cell_type": "markdown",
   "metadata": {},
   "source": [
    "**문제 10**"
   ]
  },
  {
   "cell_type": "markdown",
   "metadata": {
    "id": "jiFCWbMbU12N"
   },
   "source": [
    "`df_score`의 처음부터 5개의 행을 확인하라.\n",
    "\n",
    "힌트: `head()` 메서드"
   ]
  },
  {
   "cell_type": "code",
   "execution_count": null,
   "metadata": {
    "colab": {
     "base_uri": "https://localhost:8080/",
     "height": 313
    },
    "executionInfo": {
     "elapsed": 956,
     "status": "ok",
     "timestamp": 1620617012598,
     "user": {
      "displayName": "­정성엽 / 학생 / 컴퓨터공학부",
      "photoUrl": "",
      "userId": "12165438926956780307"
     },
     "user_tz": -540
    },
    "id": "lNGCpaMbTNI1",
    "outputId": "f20dc37d-7c69-4e96-9070-8d728af4a7c1"
   },
   "outputs": [],
   "source": [
    "# pass 를 한줄 코드로 대체하라.\n",
    "\n",
    "pass"
   ]
  },
  {
   "cell_type": "markdown",
   "metadata": {},
   "source": [
    "**문제 11**"
   ]
  },
  {
   "cell_type": "markdown",
   "metadata": {
    "id": "BGwZCQzVVBTF"
   },
   "source": [
    "`df_score`의 마지막 10개의 행을 확인하라. "
   ]
  },
  {
   "cell_type": "code",
   "execution_count": null,
   "metadata": {
    "colab": {
     "base_uri": "https://localhost:8080/",
     "height": 313
    },
    "executionInfo": {
     "elapsed": 956,
     "status": "ok",
     "timestamp": 1620617012598,
     "user": {
      "displayName": "­정성엽 / 학생 / 컴퓨터공학부",
      "photoUrl": "",
      "userId": "12165438926956780307"
     },
     "user_tz": -540
    },
    "id": "lNGCpaMbTNI1",
    "outputId": "f20dc37d-7c69-4e96-9070-8d728af4a7c1"
   },
   "outputs": [],
   "source": [
    "# pass 를 한줄 코드로 대체하라.\n",
    "\n",
    "pass"
   ]
  },
  {
   "cell_type": "markdown",
   "metadata": {},
   "source": [
    "**문제 12**"
   ]
  },
  {
   "cell_type": "markdown",
   "metadata": {
    "id": "zYdW1oUQVmu5"
   },
   "source": [
    "국어 점수가 90점 이상인 학생들의 데이터만 추출하라."
   ]
  },
  {
   "cell_type": "code",
   "execution_count": null,
   "metadata": {
    "colab": {
     "base_uri": "https://localhost:8080/",
     "height": 313
    },
    "executionInfo": {
     "elapsed": 956,
     "status": "ok",
     "timestamp": 1620617012598,
     "user": {
      "displayName": "­정성엽 / 학생 / 컴퓨터공학부",
      "photoUrl": "",
      "userId": "12165438926956780307"
     },
     "user_tz": -540
    },
    "id": "lNGCpaMbTNI1",
    "outputId": "f20dc37d-7c69-4e96-9070-8d728af4a7c1"
   },
   "outputs": [],
   "source": [
    "# pass 를 한줄 코드로 대체하라.\n",
    "\n",
    "pass"
   ]
  },
  {
   "cell_type": "markdown",
   "metadata": {},
   "source": [
    "**문제 13**"
   ]
  },
  {
   "cell_type": "markdown",
   "metadata": {
    "id": "Yz-xgw89TESs"
   },
   "source": [
    "각 과목에서 10점 이하의 값들은 `np.nan`으로 변경하여라."
   ]
  },
  {
   "cell_type": "code",
   "execution_count": null,
   "metadata": {
    "colab": {
     "base_uri": "https://localhost:8080/",
     "height": 313
    },
    "executionInfo": {
     "elapsed": 956,
     "status": "ok",
     "timestamp": 1620617012598,
     "user": {
      "displayName": "­정성엽 / 학생 / 컴퓨터공학부",
      "photoUrl": "",
      "userId": "12165438926956780307"
     },
     "user_tz": -540
    },
    "id": "lNGCpaMbTNI1",
    "outputId": "f20dc37d-7c69-4e96-9070-8d728af4a7c1"
   },
   "outputs": [],
   "source": [
    "# pass 를 한줄 코드로 대체하라.\n",
    "\n",
    "pass\n",
    "\n",
    "df_score"
   ]
  },
  {
   "cell_type": "markdown",
   "metadata": {},
   "source": [
    "**문제 14**"
   ]
  },
  {
   "cell_type": "markdown",
   "metadata": {
    "id": "Vz1SXKNnTeyr"
   },
   "source": [
    "각 열에 있는 결측치의 수를 확인하라."
   ]
  },
  {
   "cell_type": "code",
   "execution_count": null,
   "metadata": {
    "colab": {
     "base_uri": "https://localhost:8080/",
     "height": 313
    },
    "executionInfo": {
     "elapsed": 956,
     "status": "ok",
     "timestamp": 1620617012598,
     "user": {
      "displayName": "­정성엽 / 학생 / 컴퓨터공학부",
      "photoUrl": "",
      "userId": "12165438926956780307"
     },
     "user_tz": -540
    },
    "id": "lNGCpaMbTNI1",
    "outputId": "f20dc37d-7c69-4e96-9070-8d728af4a7c1"
   },
   "outputs": [],
   "source": [
    "# pass 를 한줄 코드로 대체하라.\n",
    "\n",
    "pass"
   ]
  },
  {
   "cell_type": "markdown",
   "metadata": {},
   "source": [
    "**문제 15**"
   ]
  },
  {
   "cell_type": "markdown",
   "metadata": {
    "id": "lMNIWjUNTsC1"
   },
   "source": [
    "결측치의 개수가 20%인 이하인 열들만 담은 데이터프레임`df_score_20`을 만들어라."
   ]
  },
  {
   "cell_type": "code",
   "execution_count": null,
   "metadata": {},
   "outputs": [],
   "source": [
    "# pass와 None을 각각 적절한 코드와 표현식으로 대체하라.\n",
    "\n",
    "pass\n",
    "df_score_20 = None\n",
    "\n",
    "df_score_20"
   ]
  },
  {
   "cell_type": "markdown",
   "metadata": {},
   "source": [
    "**문제 16**"
   ]
  },
  {
   "cell_type": "markdown",
   "metadata": {},
   "source": [
    "아래 데이터프레임을 생성하기 위해 `pd.date_range()` 함수는 시간으로 구성된 인덱스 자료형을 생성한다.\n",
    "함수 호출에 사용된 키워드 인자의 의미는 다음과 같다.\n",
    "\n",
    "- `start=\"20130101`: 2013년 1월 1일부터 시작\n",
    "- `periods=6`: 첫째 인자로 지정된 시간부터 6 개의 시간 데이터 샘플 생성\n",
    "- `freq=\"D\"`: 시간 데이터 샘플을 일(day) 단위로 생성"
   ]
  },
  {
   "cell_type": "code",
   "execution_count": 2,
   "metadata": {},
   "outputs": [
    {
     "data": {
      "text/plain": [
       "DatetimeIndex(['2013-01-01', '2013-01-02', '2013-01-03', '2013-01-04',\n",
       "               '2013-01-05', '2013-01-06'],\n",
       "              dtype='datetime64[ns]', freq='D')"
      ]
     },
     "execution_count": 2,
     "metadata": {},
     "output_type": "execute_result"
    }
   ],
   "source": [
    "dates = pd.date_range(start=\"20130101\", periods=6, freq=\"D\")\n",
    "dates"
   ]
  },
  {
   "cell_type": "code",
   "execution_count": 3,
   "metadata": {},
   "outputs": [
    {
     "data": {
      "text/html": [
       "<div>\n",
       "<style scoped>\n",
       "    .dataframe tbody tr th:only-of-type {\n",
       "        vertical-align: middle;\n",
       "    }\n",
       "\n",
       "    .dataframe tbody tr th {\n",
       "        vertical-align: top;\n",
       "    }\n",
       "\n",
       "    .dataframe thead th {\n",
       "        text-align: right;\n",
       "    }\n",
       "</style>\n",
       "<table border=\"1\" class=\"dataframe\">\n",
       "  <thead>\n",
       "    <tr style=\"text-align: right;\">\n",
       "      <th></th>\n",
       "      <th>A</th>\n",
       "      <th>B</th>\n",
       "      <th>C</th>\n",
       "      <th>D</th>\n",
       "    </tr>\n",
       "  </thead>\n",
       "  <tbody>\n",
       "    <tr>\n",
       "      <th>2013-01-01</th>\n",
       "      <td>1.764052</td>\n",
       "      <td>0.400157</td>\n",
       "      <td>0.978738</td>\n",
       "      <td>2.240893</td>\n",
       "    </tr>\n",
       "    <tr>\n",
       "      <th>2013-01-02</th>\n",
       "      <td>1.867558</td>\n",
       "      <td>-0.977278</td>\n",
       "      <td>0.950088</td>\n",
       "      <td>-0.151357</td>\n",
       "    </tr>\n",
       "    <tr>\n",
       "      <th>2013-01-03</th>\n",
       "      <td>-0.103219</td>\n",
       "      <td>0.410599</td>\n",
       "      <td>0.144044</td>\n",
       "      <td>1.454274</td>\n",
       "    </tr>\n",
       "    <tr>\n",
       "      <th>2013-01-04</th>\n",
       "      <td>0.761038</td>\n",
       "      <td>0.121675</td>\n",
       "      <td>0.443863</td>\n",
       "      <td>0.333674</td>\n",
       "    </tr>\n",
       "    <tr>\n",
       "      <th>2013-01-05</th>\n",
       "      <td>1.494079</td>\n",
       "      <td>-0.205158</td>\n",
       "      <td>0.313068</td>\n",
       "      <td>-0.854096</td>\n",
       "    </tr>\n",
       "    <tr>\n",
       "      <th>2013-01-06</th>\n",
       "      <td>-2.552990</td>\n",
       "      <td>0.653619</td>\n",
       "      <td>0.864436</td>\n",
       "      <td>-0.742165</td>\n",
       "    </tr>\n",
       "  </tbody>\n",
       "</table>\n",
       "</div>"
      ],
      "text/plain": [
       "                   A         B         C         D\n",
       "2013-01-01  1.764052  0.400157  0.978738  2.240893\n",
       "2013-01-02  1.867558 -0.977278  0.950088 -0.151357\n",
       "2013-01-03 -0.103219  0.410599  0.144044  1.454274\n",
       "2013-01-04  0.761038  0.121675  0.443863  0.333674\n",
       "2013-01-05  1.494079 -0.205158  0.313068 -0.854096\n",
       "2013-01-06 -2.552990  0.653619  0.864436 -0.742165"
      ]
     },
     "execution_count": 3,
     "metadata": {},
     "output_type": "execute_result"
    }
   ],
   "source": [
    "np.random.seed(0)\n",
    "\n",
    "df = pd.DataFrame(np.random.randn(6, 4), index=dates, columns=list(\"ABCD\"))\n",
    "df"
   ]
  },
  {
   "cell_type": "markdown",
   "metadata": {
    "id": "aLIzfkguR6hY"
   },
   "source": [
    "(1) 열 라벨을 기준으로 오름차순으로 정렬하라."
   ]
  },
  {
   "cell_type": "code",
   "execution_count": null,
   "metadata": {
    "colab": {
     "base_uri": "https://localhost:8080/",
     "height": 237
    },
    "id": "yuWbmU8fR8hp",
    "outputId": "8a76171a-1b62-4407-9da1-a38addd75007"
   },
   "outputs": [],
   "source": [
    "# pass와 None을 각각 적절한 코드와 표현식으로 대체하라.\n",
    "\n",
    "None"
   ]
  },
  {
   "cell_type": "markdown",
   "metadata": {
    "id": "aLIzfkguR6hY"
   },
   "source": [
    "(2) 열 라벨을 기준으로 내림차순으로 정렬하라."
   ]
  },
  {
   "cell_type": "code",
   "execution_count": null,
   "metadata": {
    "colab": {
     "base_uri": "https://localhost:8080/",
     "height": 237
    },
    "id": "yuWbmU8fR8hp",
    "outputId": "8a76171a-1b62-4407-9da1-a38addd75007"
   },
   "outputs": [],
   "source": [
    "# pass와 None을 각각 적절한 코드와 표현식으로 대체하라.\n",
    "\n",
    "None"
   ]
  },
  {
   "cell_type": "markdown",
   "metadata": {
    "id": "aLIzfkguR6hY"
   },
   "source": [
    "(2) `'B'` 라벨 열의 항목을 기준으로 오름차순으로 정렬하라."
   ]
  },
  {
   "cell_type": "code",
   "execution_count": null,
   "metadata": {
    "colab": {
     "base_uri": "https://localhost:8080/",
     "height": 237
    },
    "id": "yuWbmU8fR8hp",
    "outputId": "8a76171a-1b62-4407-9da1-a38addd75007"
   },
   "outputs": [],
   "source": [
    "# pass와 None을 각각 적절한 코드와 표현식으로 대체하라.\n",
    "\n",
    "None"
   ]
  }
 ],
 "metadata": {
  "colab": {
   "name": "practice-dataframe_core.ipynb",
   "provenance": []
  },
  "kernelspec": {
   "display_name": "Python 3 (ipykernel)",
   "language": "python",
   "name": "python3"
  },
  "language_info": {
   "codemirror_mode": {
    "name": "ipython",
    "version": 3
   },
   "file_extension": ".py",
   "mimetype": "text/x-python",
   "name": "python",
   "nbconvert_exporter": "python",
   "pygments_lexer": "ipython3",
   "version": "3.11.7"
  }
 },
 "nbformat": 4,
 "nbformat_minor": 1
}
