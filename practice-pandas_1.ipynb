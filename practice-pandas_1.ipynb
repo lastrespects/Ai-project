{
 "cells": [
  {
   "cell_type": "markdown",
   "metadata": {
    "id": "exkLCPgyK_Vl"
   },
   "source": [
    "# (실습) 판다스 데이터프레임\n"
   ]
  },
  {
   "cell_type": "markdown",
   "metadata": {
    "id": "4m0Li2ySLMa-"
   },
   "source": [
    "**필수 라이브러리**"
   ]
  },
  {
   "cell_type": "code",
   "execution_count": 14,
   "metadata": {
    "id": "LKHxbN0QLGJE"
   },
   "outputs": [],
   "source": [
    "import numpy as np\n",
    "import pandas as pd"
   ]
  },
  {
   "cell_type": "markdown",
   "metadata": {},
   "source": [
    "**문제 1**"
   ]
  },
  {
   "cell_type": "markdown",
   "metadata": {
    "id": "29g0yoUMLdoi"
   },
   "source": [
    "아래 리스트를 이용하여 시리즈를 생성하여라."
   ]
  },
  {
   "cell_type": "code",
   "execution_count": 15,
   "metadata": {
    "colab": {
     "base_uri": "https://localhost:8080/"
    },
    "id": "-f6TSrLHLmCc",
    "outputId": "2e591982-e95f-4864-d97a-9c62f4de7778"
   },
   "outputs": [],
   "source": [
    "aList = [1, 3, 5, np.nan, 6, 8]"
   ]
  },
  {
   "cell_type": "code",
   "execution_count": 3,
   "metadata": {
    "colab": {
     "base_uri": "https://localhost:8080/"
    },
    "id": "-f6TSrLHLmCc",
    "outputId": "2e591982-e95f-4864-d97a-9c62f4de7778"
   },
   "outputs": [],
   "source": [
    "# pass와 None을 각각 적절한 명령문과 표현식으로 대체하여라.\n",
    "\n",
    "None"
   ]
  },
  {
   "cell_type": "markdown",
   "metadata": {},
   "source": [
    "**문제 2**"
   ]
  },
  {
   "cell_type": "markdown",
   "metadata": {},
   "source": [
    "(1) 아래 사전을 이용하여 데이터프레임을 생성하여 `df1` 변수에 할당하여라."
   ]
  },
  {
   "cell_type": "code",
   "execution_count": 6,
   "metadata": {
    "colab": {
     "base_uri": "https://localhost:8080/",
     "height": 174
    },
    "id": "ME0CZ45cM3FD",
    "outputId": "fabf33ad-6f72-4f55-8ce8-ea5f33ece7ae"
   },
   "outputs": [],
   "source": [
    "abcd_dict = {\"A\": 1.0,\n",
    "             \"B\": pd.Series(1, index=list(range(4)), dtype=\"float32\"),\n",
    "             \"C\": np.array([3] * 4, dtype=\"int32\"),\n",
    "             \"D\": [\"test\", \"train\", \"test\", \"train\"]}"
   ]
  },
  {
   "cell_type": "code",
   "execution_count": 7,
   "metadata": {
    "colab": {
     "base_uri": "https://localhost:8080/",
     "height": 174
    },
    "id": "ME0CZ45cM3FD",
    "outputId": "fabf33ad-6f72-4f55-8ce8-ea5f33ece7ae"
   },
   "outputs": [],
   "source": [
    "# pass와 None을 각각 적절한 명령문과 표현식으로 대체하여라.\n",
    "\n",
    "df1 = None\n",
    "df1"
   ]
  },
  {
   "cell_type": "markdown",
   "metadata": {},
   "source": [
    "(2) `df1`이 가리키는 데이터프레임의 열별 자료형을 확인하여라."
   ]
  },
  {
   "cell_type": "code",
   "execution_count": 8,
   "metadata": {
    "colab": {
     "base_uri": "https://localhost:8080/"
    },
    "id": "-f6TSrLHLmCc",
    "outputId": "2e591982-e95f-4864-d97a-9c62f4de7778"
   },
   "outputs": [],
   "source": [
    "# pass와 None을 각각 적절한 명령문과 표현식으로 대체하여라.\n",
    "\n",
    "None"
   ]
  },
  {
   "cell_type": "markdown",
   "metadata": {},
   "source": [
    "**문제 3**"
   ]
  },
  {
   "cell_type": "markdown",
   "metadata": {},
   "source": [
    "`pd.date_range()` 함수는 시간으로 구성된 인덱스 자료형을 생성한다.\n",
    "함수 호출에 사용된 키워드 인자의 의미는 다음과 같다.\n",
    "\n",
    "- `start=\"20130101`: 2013년 1월 1일부터 시작\n",
    "- `periods=6`: 첫째 인자로 지정된 시간부터 6 개의 시간 데이터 샘플 생성\n",
    "- `freq=\"D\"`: 시간 데이터 샘플을 일(day) 단위로 생성"
   ]
  },
  {
   "cell_type": "code",
   "execution_count": 16,
   "metadata": {
    "colab": {
     "base_uri": "https://localhost:8080/"
    },
    "id": "-TGGcxdnMFaZ",
    "outputId": "d82be12d-e210-4c1c-ab25-d21c21d9a922"
   },
   "outputs": [
    {
     "data": {
      "text/plain": [
       "DatetimeIndex(['2013-01-01', '2013-01-02', '2013-01-03', '2013-01-04',\n",
       "               '2013-01-05', '2013-01-06'],\n",
       "              dtype='datetime64[ns]', freq='D')"
      ]
     },
     "execution_count": 16,
     "metadata": {},
     "output_type": "execute_result"
    }
   ],
   "source": [
    "dates = pd.date_range(start=\"20130101\", periods=6, freq=\"D\")\n",
    "dates"
   ]
  },
  {
   "cell_type": "markdown",
   "metadata": {},
   "source": [
    "`dates`를 행 인덱스로, `['A', 'B', 'C', 'D']`를 열 인덱스로 사용하는(6, 4) 모양의 데이터프레임을 생성하여 `df` 변수에 할당하여라.\n",
    "단, 항목은 `np.random.randn(6, 4)`를 이용하여 생성한다."
   ]
  },
  {
   "cell_type": "code",
   "execution_count": 5,
   "metadata": {
    "colab": {
     "base_uri": "https://localhost:8080/",
     "height": 237
    },
    "id": "KQQ7ziMuMsQ6",
    "outputId": "134dba93-7cc8-43c8-a119-4839c30521ea"
   },
   "outputs": [],
   "source": [
    "np.random.seed(0)\n",
    "\n",
    "# pass와 None을 각각 적절한 명령문과 표현식으로 대체하여라.\n",
    "\n",
    "df = None"
   ]
  },
  {
   "cell_type": "markdown",
   "metadata": {},
   "source": [
    "**문제 4**"
   ]
  },
  {
   "cell_type": "markdown",
   "metadata": {},
   "source": [
    "(1) `df`가 가리키는 데이터프레임의 처음 5행을 확인하여라."
   ]
  },
  {
   "cell_type": "code",
   "execution_count": 9,
   "metadata": {
    "colab": {
     "base_uri": "https://localhost:8080/"
    },
    "id": "-f6TSrLHLmCc",
    "outputId": "2e591982-e95f-4864-d97a-9c62f4de7778"
   },
   "outputs": [],
   "source": [
    "# pass와 None을 각각 적절한 명령문과 표현식으로 대체하여라.\n",
    "\n",
    "None"
   ]
  },
  {
   "cell_type": "markdown",
   "metadata": {},
   "source": [
    "(2) `df`가 가리키는 데이터프레임의 마지막 5행을 확인하여라."
   ]
  },
  {
   "cell_type": "code",
   "execution_count": 10,
   "metadata": {
    "colab": {
     "base_uri": "https://localhost:8080/"
    },
    "id": "-f6TSrLHLmCc",
    "outputId": "2e591982-e95f-4864-d97a-9c62f4de7778"
   },
   "outputs": [],
   "source": [
    "# pass와 None을 각각 적절한 명령문과 표현식으로 대체하여라.\n",
    "\n",
    "None"
   ]
  },
  {
   "cell_type": "markdown",
   "metadata": {},
   "source": [
    "**문제 5**"
   ]
  },
  {
   "cell_type": "markdown",
   "metadata": {
    "id": "DxKFULIkPiNc"
   },
   "source": [
    "(1) `df`가 가리키는 데이터프레임의 행 라벨을 확인하여라."
   ]
  },
  {
   "cell_type": "code",
   "execution_count": 11,
   "metadata": {
    "colab": {
     "base_uri": "https://localhost:8080/"
    },
    "id": "-f6TSrLHLmCc",
    "outputId": "2e591982-e95f-4864-d97a-9c62f4de7778"
   },
   "outputs": [],
   "source": [
    "# pass와 None을 각각 적절한 명령문과 표현식으로 대체하여라.\n",
    "\n",
    "None"
   ]
  },
  {
   "cell_type": "markdown",
   "metadata": {
    "id": "DxKFULIkPiNc"
   },
   "source": [
    "(2) `df`가 가리키는 데이터프레임의 열 라벨을 확인하여라."
   ]
  },
  {
   "cell_type": "code",
   "execution_count": 12,
   "metadata": {
    "colab": {
     "base_uri": "https://localhost:8080/"
    },
    "id": "-f6TSrLHLmCc",
    "outputId": "2e591982-e95f-4864-d97a-9c62f4de7778"
   },
   "outputs": [],
   "source": [
    "# pass와 None을 각각 적절한 명령문과 표현식으로 대체하여라.\n",
    "\n",
    "None"
   ]
  },
  {
   "cell_type": "markdown",
   "metadata": {},
   "source": [
    "**문제 6**"
   ]
  },
  {
   "cell_type": "markdown",
   "metadata": {},
   "source": [
    "(1) `df`가 가리키는 데이터프레임을 넘파이 어레이로 변환하여라."
   ]
  },
  {
   "cell_type": "code",
   "execution_count": 13,
   "metadata": {
    "colab": {
     "base_uri": "https://localhost:8080/"
    },
    "id": "-f6TSrLHLmCc",
    "outputId": "2e591982-e95f-4864-d97a-9c62f4de7778"
   },
   "outputs": [],
   "source": [
    "# pass와 None을 각각 적절한 명령문과 표현식으로 대체하여라.\n",
    "\n",
    "None"
   ]
  },
  {
   "cell_type": "markdown",
   "metadata": {},
   "source": [
    "(1) `df1`이 가리키는 데이터프레임을 넘파이 어레이로 변환하여라."
   ]
  },
  {
   "cell_type": "code",
   "execution_count": 14,
   "metadata": {
    "colab": {
     "base_uri": "https://localhost:8080/"
    },
    "id": "-f6TSrLHLmCc",
    "outputId": "2e591982-e95f-4864-d97a-9c62f4de7778"
   },
   "outputs": [],
   "source": [
    "# pass와 None을 각각 적절한 명령문과 표현식으로 대체하여라.\n",
    "\n",
    "None"
   ]
  },
  {
   "cell_type": "markdown",
   "metadata": {},
   "source": [
    "**문제 7**"
   ]
  },
  {
   "cell_type": "markdown",
   "metadata": {
    "id": "SaYf9MG6Ri1A"
   },
   "source": [
    "`df`가 가리키는 데이터프레임에 속한 수치형 데이터의 분포를 확인하여라.\n",
    "\n",
    "힌트: `desecribe()` 메서드"
   ]
  },
  {
   "cell_type": "code",
   "execution_count": 15,
   "metadata": {
    "colab": {
     "base_uri": "https://localhost:8080/"
    },
    "id": "-f6TSrLHLmCc",
    "outputId": "2e591982-e95f-4864-d97a-9c62f4de7778"
   },
   "outputs": [],
   "source": [
    "# pass와 None을 각각 적절한 명령문과 표현식으로 대체하여라.\n",
    "\n",
    "None"
   ]
  },
  {
   "cell_type": "markdown",
   "metadata": {
    "id": "jhZpoc8kXA8u"
   },
   "source": [
    "**문제 8**"
   ]
  },
  {
   "cell_type": "markdown",
   "metadata": {
    "id": "HMI1XX8TSSDB"
   },
   "source": [
    "아래 링크에 있는 `score.txt` 파일에는 \n",
    "100명의 학생들의 국어, 영어, 수학, 사회, 과학 점수가 들어 있다.      "
   ]
  },
  {
   "cell_type": "code",
   "execution_count": 2,
   "metadata": {},
   "outputs": [],
   "source": [
    "score_url = \"https://raw.githubusercontent.com/codingalzi/datapy/master/practices/data/score.txt\""
   ]
  },
  {
   "cell_type": "markdown",
   "metadata": {
    "id": "HMI1XX8TSSDB"
   },
   "source": [
    "(1) 위 링크의 파일 내용을 담은 데이터프레임을 가리키는 변수 `df_score`를 선언하여라.\n",
    "\n",
    "힌트: 판다스의 `read_csv()` 함수 활용"
   ]
  },
  {
   "cell_type": "code",
   "execution_count": 9,
   "metadata": {},
   "outputs": [],
   "source": [
    "# pass와 None을 각각 적절한 명령문과 표현식으로 대체하여라.\n",
    "\n",
    "df_score = None"
   ]
  },
  {
   "cell_type": "markdown",
   "metadata": {},
   "source": [
    "(2) 열 라벨을 확인하는 한 줄 표현식을 작성하여라."
   ]
  },
  {
   "cell_type": "code",
   "execution_count": null,
   "metadata": {},
   "outputs": [],
   "source": [
    "# 한 줄 표현식을 작성하여라.\n"
   ]
  },
  {
   "cell_type": "markdown",
   "metadata": {},
   "source": [
    "(3) 열 라벨에 포함된 샵 기호와 공백을 제거하여라. \n",
    "\n",
    "힌트: `Index` 객체의 문자열 메서드 활용"
   ]
  },
  {
   "cell_type": "code",
   "execution_count": 10,
   "metadata": {},
   "outputs": [],
   "source": [
    "# pass와 None을 각각 적절한 명령문과 표현식으로 대체하여라.\n",
    "\n",
    "pass"
   ]
  },
  {
   "cell_type": "markdown",
   "metadata": {},
   "source": [
    "**문제 9**"
   ]
  },
  {
   "cell_type": "markdown",
   "metadata": {},
   "source": [
    "먼저 하나의 새로운 시리즈를 생성한다."
   ]
  },
  {
   "cell_type": "code",
   "execution_count": 11,
   "metadata": {},
   "outputs": [
    {
     "data": {
      "text/plain": [
       "a    0.461123\n",
       "b    0.317346\n",
       "c   -0.026032\n",
       "d   -0.208278\n",
       "e    0.451474\n",
       "dtype: float64"
      ]
     },
     "execution_count": 11,
     "metadata": {},
     "output_type": "execute_result"
    }
   ],
   "source": [
    "s = pd.Series(np.random.randn(5), index=[\"a\", \"b\", \"c\", \"d\", \"e\"])\n",
    "s"
   ]
  },
  {
   "cell_type": "markdown",
   "metadata": {},
   "source": [
    "아래 코드의 실행 결과를 설명하여라."
   ]
  },
  {
   "cell_type": "code",
   "execution_count": 12,
   "metadata": {},
   "outputs": [
    {
     "data": {
      "text/plain": [
       "e    0.451474\n",
       "b    0.317346\n",
       "f         NaN\n",
       "d   -0.208278\n",
       "dtype: float64"
      ]
     },
     "execution_count": 12,
     "metadata": {},
     "output_type": "execute_result"
    }
   ],
   "source": [
    "s.reindex([\"e\", \"b\", \"f\", \"d\"])"
   ]
  },
  {
   "cell_type": "markdown",
   "metadata": {},
   "source": [
    "*설명*"
   ]
  },
  {
   "cell_type": "markdown",
   "metadata": {},
   "source": []
  },
  {
   "cell_type": "markdown",
   "metadata": {},
   "source": [
    "**문제 10**"
   ]
  },
  {
   "cell_type": "markdown",
   "metadata": {},
   "source": [
    "`df` 데이터프레임을 계속 이용한다."
   ]
  },
  {
   "cell_type": "code",
   "execution_count": null,
   "metadata": {},
   "outputs": [],
   "source": [
    "df"
   ]
  },
  {
   "cell_type": "markdown",
   "metadata": {},
   "source": [
    "행 인덱스는 `dates`가 가리키고 있다."
   ]
  },
  {
   "cell_type": "code",
   "execution_count": 17,
   "metadata": {},
   "outputs": [
    {
     "data": {
      "text/plain": [
       "DatetimeIndex(['2013-01-01', '2013-01-02', '2013-01-03', '2013-01-04',\n",
       "               '2013-01-05', '2013-01-06'],\n",
       "              dtype='datetime64[ns]', freq='D')"
      ]
     },
     "execution_count": 17,
     "metadata": {},
     "output_type": "execute_result"
    }
   ],
   "source": [
    "dates"
   ]
  },
  {
   "cell_type": "markdown",
   "metadata": {},
   "source": [
    "(1) 행과 열의 인덱스를 다음으로 지정된 새로운 데이터프레임을 생성하여라."
   ]
  },
  {
   "cell_type": "markdown",
   "metadata": {},
   "source": [
    "- `index=[dates[1], dates[3], dates[0]]`\n",
    "- `columns=[\"C\", \"B\", \"A\"])`"
   ]
  },
  {
   "cell_type": "code",
   "execution_count": 18,
   "metadata": {},
   "outputs": [],
   "source": [
    "# pass와 None을 각각 적절한 명령문과 표현식으로 대체하여라.\n",
    "\n",
    "None"
   ]
  },
  {
   "cell_type": "markdown",
   "metadata": {},
   "source": [
    "(2) 행의 인덱스를 다음으로 지정된 새로운 데이터프레임을 생성하여라.\n",
    "\n",
    "    [dates[1], dates[3], dates[0]]"
   ]
  },
  {
   "cell_type": "code",
   "execution_count": 18,
   "metadata": {},
   "outputs": [],
   "source": [
    "# pass와 None을 각각 적절한 명령문과 표현식으로 대체하여라.\n",
    "\n",
    "None"
   ]
  },
  {
   "cell_type": "markdown",
   "metadata": {},
   "source": [
    "(3) 열의 인덱스를 다음으로 지정된 새로운 데이터프레임을 생성하여라.\n",
    "\n",
    "    [\"C\", \"B\", \"A\"]"
   ]
  },
  {
   "cell_type": "code",
   "execution_count": 18,
   "metadata": {},
   "outputs": [],
   "source": [
    "# pass와 None을 각각 적절한 명령문과 표현식으로 대체하여라.\n",
    "\n",
    "None"
   ]
  }
 ],
 "metadata": {
  "colab": {
   "provenance": []
  },
  "kernelspec": {
   "display_name": "Python 3 (ipykernel)",
   "language": "python",
   "name": "python3"
  },
  "language_info": {
   "codemirror_mode": {
    "name": "ipython",
    "version": 3
   },
   "file_extension": ".py",
   "mimetype": "text/x-python",
   "name": "python",
   "nbconvert_exporter": "python",
   "pygments_lexer": "ipython3",
   "version": "3.11.5"
  }
 },
 "nbformat": 4,
 "nbformat_minor": 1
}
